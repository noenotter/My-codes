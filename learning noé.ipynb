{
 "cells": [
  {
   "cell_type": "code",
   "execution_count": 1,
   "id": "52c7194a-5360-44d0-8adb-9d9196e981b1",
   "metadata": {},
   "outputs": [
    {
     "name": "stdout",
     "output_type": "stream",
     "text": [
      "jecrois c ok\n"
     ]
    }
   ],
   "source": [
    "print('jecrois c ok')"
   ]
  },
  {
   "cell_type": "code",
   "execution_count": null,
   "id": "a1b44693-9e64-4ca2-adec-ee241c2a3ed4",
   "metadata": {},
   "outputs": [],
   "source": []
  },
  {
   "cell_type": "code",
   "execution_count": 3,
   "id": "2091a950-a6be-406e-8082-1da707184e89",
   "metadata": {},
   "outputs": [
    {
     "data": {
      "text/plain": [
       "0"
      ]
     },
     "execution_count": 3,
     "metadata": {},
     "output_type": "execute_result"
    }
   ],
   "source": [
    "2^2"
   ]
  },
  {
   "cell_type": "code",
   "execution_count": 5,
   "id": "736dca0a-5e82-4f6f-9300-5fdb23a38836",
   "metadata": {},
   "outputs": [
    {
     "data": {
      "text/plain": [
       "4"
      ]
     },
     "execution_count": 5,
     "metadata": {},
     "output_type": "execute_result"
    }
   ],
   "source": [
    "2**2"
   ]
  },
  {
   "cell_type": "code",
   "execution_count": 7,
   "id": "ec4002a6-2c81-42f1-a48a-8a112e68a148",
   "metadata": {},
   "outputs": [
    {
     "name": "stdout",
     "output_type": "stream",
     "text": [
      "Collecting panda\n",
      "  Downloading panda-0.3.1.tar.gz (5.8 kB)\n",
      "  Preparing metadata (setup.py) ... \u001b[?25ldone\n",
      "\u001b[?25hRequirement already satisfied: setuptools in /opt/anaconda3/lib/python3.12/site-packages (from panda) (69.5.1)\n",
      "Requirement already satisfied: requests in /opt/anaconda3/lib/python3.12/site-packages (from panda) (2.32.2)\n",
      "Requirement already satisfied: charset-normalizer<4,>=2 in /opt/anaconda3/lib/python3.12/site-packages (from requests->panda) (2.0.4)\n",
      "Requirement already satisfied: idna<4,>=2.5 in /opt/anaconda3/lib/python3.12/site-packages (from requests->panda) (3.7)\n",
      "Requirement already satisfied: urllib3<3,>=1.21.1 in /opt/anaconda3/lib/python3.12/site-packages (from requests->panda) (2.2.2)\n",
      "Requirement already satisfied: certifi>=2017.4.17 in /opt/anaconda3/lib/python3.12/site-packages (from requests->panda) (2024.7.4)\n",
      "Building wheels for collected packages: panda\n",
      "  Building wheel for panda (setup.py) ... \u001b[?25ldone\n",
      "\u001b[?25h  Created wheel for panda: filename=panda-0.3.1-py3-none-any.whl size=7239 sha256=12a8a54e506d08715ceac0eaac94252da04c9057455ed967c1cd6f8e664b4009\n",
      "  Stored in directory: /Users/noenotter/Library/Caches/pip/wheels/98/41/5b/6ca54e0b6a35e1b7248c12f56fcb753dfb7717fefaa0fb45f5\n",
      "Successfully built panda\n",
      "Installing collected packages: panda\n",
      "Successfully installed panda-0.3.1\n",
      "Note: you may need to restart the kernel to use updated packages.\n"
     ]
    }
   ],
   "source": [
    "pip install panda"
   ]
  },
  {
   "cell_type": "code",
   "execution_count": 1,
   "id": "86b61d3b-e939-4be2-b353-7ff83a4bfba5",
   "metadata": {},
   "outputs": [
    {
     "data": {
      "text/plain": [
       "6.167549951999997e-10"
      ]
     },
     "execution_count": 1,
     "metadata": {},
     "output_type": "execute_result"
    }
   ],
   "source": [
    "17000*0.06**11"
   ]
  },
  {
   "cell_type": "code",
   "execution_count": 3,
   "id": "965168f1-d138-438e-990f-4d047e103e33",
   "metadata": {},
   "outputs": [
    {
     "data": {
      "text/plain": [
       "32271.075491702242"
      ]
     },
     "execution_count": 3,
     "metadata": {},
     "output_type": "execute_result"
    }
   ],
   "source": [
    "17000*1.06**11\n"
   ]
  },
  {
   "cell_type": "code",
   "execution_count": 5,
   "id": "02eb9467-67df-4966-be14-fb3ebedffbc9",
   "metadata": {},
   "outputs": [
    {
     "data": {
      "text/plain": [
       "32271.075491702242"
      ]
     },
     "execution_count": 5,
     "metadata": {},
     "output_type": "execute_result"
    }
   ],
   "source": [
    "17000*(1+0.06)**11\n",
    "\n"
   ]
  },
  {
   "cell_type": "code",
   "execution_count": 7,
   "id": "6cb288fc-28d8-454f-bb75-12350531f7a4",
   "metadata": {},
   "outputs": [
    {
     "data": {
      "text/plain": [
       "18156.273212000717"
      ]
     },
     "execution_count": 7,
     "metadata": {},
     "output_type": "execute_result"
    }
   ],
   "source": [
    "17000*1.006**11"
   ]
  },
  {
   "cell_type": "code",
   "execution_count": 17,
   "id": "534f9e1e-df43-43f8-8639-f57a977de3d3",
   "metadata": {},
   "outputs": [
    {
     "name": "stdout",
     "output_type": "stream",
     "text": [
      "example 1: ok \n"
     ]
    }
   ],
   "source": [
    "variable_1 = 'ok'\n",
    "print('example 1: %s ' %variable_1)\n"
   ]
  },
  {
   "cell_type": "code",
   "execution_count": 19,
   "id": "16d59569-4297-4a12-a78d-e044ae42efb3",
   "metadata": {},
   "outputs": [
    {
     "name": "stdout",
     "output_type": "stream",
     "text": [
      "example 1: ok \n"
     ]
    }
   ],
   "source": [
    "variable_1 = 'ok'\n",
    "print('example 1: %s ' %variable_1)\n"
   ]
  },
  {
   "cell_type": "code",
   "execution_count": 21,
   "id": "6ae67a77-fe06-42f3-b4ef-efbc5a603f00",
   "metadata": {},
   "outputs": [
    {
     "name": "stdout",
     "output_type": "stream",
     "text": [
      "ROWEN vit dans mon lit.\n"
     ]
    }
   ],
   "source": [
    "nom = \"ROWEN\"\n",
    "ville = \"mon lit\"\n",
    "message = \"%s vit dans %s.\" % (nom, ville)\n",
    "print(message)\n"
   ]
  },
  {
   "cell_type": "code",
   "execution_count": 23,
   "id": "699cad20-e969-422b-aa9c-36a40faea036",
   "metadata": {},
   "outputs": [],
   "source": [
    "del(nom)"
   ]
  },
  {
   "cell_type": "code",
   "execution_count": 25,
   "id": "4ee6547f-4595-4e12-8d82-ba01778b3233",
   "metadata": {},
   "outputs": [
    {
     "ename": "NameError",
     "evalue": "name 'nom' is not defined",
     "output_type": "error",
     "traceback": [
      "\u001b[0;31m---------------------------------------------------------------------------\u001b[0m",
      "\u001b[0;31mNameError\u001b[0m                                 Traceback (most recent call last)",
      "Cell \u001b[0;32mIn[25], line 1\u001b[0m\n\u001b[0;32m----> 1\u001b[0m \u001b[38;5;28mprint\u001b[39m(nom)\n",
      "\u001b[0;31mNameError\u001b[0m: name 'nom' is not defined"
     ]
    }
   ],
   "source": [
    "print(nom)"
   ]
  },
  {
   "cell_type": "code",
   "execution_count": 29,
   "id": "9bb05234-f43b-4e84-99b9-09efe8cd327c",
   "metadata": {},
   "outputs": [
    {
     "name": "stdout",
     "output_type": "stream",
     "text": [
      "nom\n"
     ]
    }
   ],
   "source": [
    "print('nom')"
   ]
  },
  {
   "cell_type": "code",
   "execution_count": 55,
   "id": "9dfb0dc6-34e2-4947-b1ee-ab77edf2c96c",
   "metadata": {},
   "outputs": [
    {
     "name": "stdout",
     "output_type": "stream",
     "text": [
      "Noé\n",
      "<class 'str'>\n",
      "Notter\n",
      "<class 'str'>\n",
      "18\n",
      "<class 'str'>\n",
      "\n",
      "Noé Notter\n",
      "18 ma bite\n"
     ]
    }
   ],
   "source": [
    "nom= \"Noé\"\n",
    "\n",
    "print(nom)\n",
    "print(type(nom))\n",
    "\n",
    "prenom= \"Notter\"\n",
    "\n",
    "print(prenom)\n",
    "print(type(prenom))\n",
    "\n",
    "Taille= \"18\"\n",
    "\n",
    "print(Taille)\n",
    "print(type(Taille))\n",
    "\n",
    "\n",
    "\n",
    "print('\\n' + nom + ' ' + prenom + '\\n' + (Taille) + ' ma bite')"
   ]
  },
  {
   "cell_type": "code",
   "execution_count": 37,
   "id": "ba9fc4f8-3f11-45a6-955f-032096ebed39",
   "metadata": {},
   "outputs": [
    {
     "name": "stdout",
     "output_type": "stream",
     "text": [
      "5\n"
     ]
    }
   ],
   "source": [
    "ma_variable= 5\n",
    "print(ma_variable)"
   ]
  },
  {
   "cell_type": "markdown",
   "id": "f99e679c-c4fe-46c5-9342-013e9a1fbfc6",
   "metadata": {},
   "source": [
    "ma_liste = [1, 'deux', 3, 'quatre', 5]\n",
    "print(ma_liste)\n",
    "print(type(ma_liste)) "
   ]
  },
  {
   "cell_type": "code",
   "execution_count": 85,
   "id": "549cd3d2-bc27-4f32-a8cf-c4c3ace4ef6b",
   "metadata": {},
   "outputs": [],
   "source": [
    "ma_liste = [1, 3*3, 3, 'quatre', 5]\n"
   ]
  },
  {
   "cell_type": "code",
   "execution_count": 87,
   "id": "cfcae66e-e382-4ca8-94ef-45a5ea9c41b5",
   "metadata": {},
   "outputs": [
    {
     "name": "stdout",
     "output_type": "stream",
     "text": [
      "[1, 9, 3, 'quatre', 5]\n",
      "<class 'list'>\n"
     ]
    }
   ],
   "source": [
    "print(ma_liste)\n",
    "print(type(ma_liste))"
   ]
  },
  {
   "cell_type": "code",
   "execution_count": 79,
   "id": "df734188-fd56-4cb0-8c48-41fb13129fa2",
   "metadata": {},
   "outputs": [
    {
     "data": {
      "text/plain": [
       "1"
      ]
     },
     "execution_count": 79,
     "metadata": {},
     "output_type": "execute_result"
    }
   ],
   "source": [
    "ma_liste[0]"
   ]
  },
  {
   "cell_type": "code",
   "execution_count": 89,
   "id": "d2d5964e-adbe-4b41-9f16-4c86deb25806",
   "metadata": {},
   "outputs": [
    {
     "name": "stdout",
     "output_type": "stream",
     "text": [
      "[1, 9, 3, 1041032030240204, 5]\n"
     ]
    }
   ],
   "source": [
    "ma_liste[3]=1041032030240204\n",
    "print(ma_liste)"
   ]
  },
  {
   "cell_type": "code",
   "execution_count": 117,
   "id": "bad3c584-1b31-48bc-8367-e84fb6cbab57",
   "metadata": {},
   "outputs": [
    {
     "name": "stdout",
     "output_type": "stream",
     "text": [
      "[1, 2, 3, 4, 5]\n",
      "[1, 2, 3, 4, 5]\n",
      "[1, 2, 3, 4, 5]\n",
      "[1, 2, 3, 4, 123]\n",
      "[1, 2, 3, 4, 123]\n",
      "[1, 2, 3, 4]\n"
     ]
    }
   ],
   "source": [
    "exemple_liste = [1, 2, 3, 4, 5]\n",
    "\n",
    "print(exemple_liste[0:5])\n",
    "print(exemple_liste[:1000])\n",
    "print(exemple_liste[0:])\n",
    "\n",
    "exemple_liste[4]=123\n",
    "\n",
    "print(exemple_liste[0:5])\n",
    "print(exemple_liste[:1000])\n",
    "print(exemple_liste[:-1])\n",
    "\n",
    "\n",
    "\n"
   ]
  },
  {
   "cell_type": "code",
   "execution_count": 131,
   "id": "08d56533-393d-4b90-b5bf-7a80bbf85596",
   "metadata": {},
   "outputs": [
    {
     "data": {
      "text/plain": [
       "1"
      ]
     },
     "execution_count": 131,
     "metadata": {},
     "output_type": "execute_result"
    }
   ],
   "source": [
    "exemple_liste = [1, 2, 1, 3, 4]\n",
    "\n",
    "exemple_liste.index(1)\n",
    "\n",
    "listeb=exemple_liste[1:5]\n",
    "listeb.index(1)\n",
    "\n",
    "exemple_liste.index(1)+listeb.index(1)"
   ]
  },
  {
   "cell_type": "code",
   "execution_count": 135,
   "id": "324e03dc-39f6-473f-abab-118a01081fab",
   "metadata": {},
   "outputs": [
    {
     "name": "stdout",
     "output_type": "stream",
     "text": [
      "KPADE suspense Mathias\n",
      "KPA\n"
     ]
    }
   ],
   "source": [
    "nom = 'KPADE'\n",
    "prenom = 'Mathias'\n",
    "\n",
    "nom_et_prenom = nom + ' '+ 'suspense' +' ' +prenom\n",
    "\n",
    "print(nom_et_prenom)\n",
    "print(nom[:3])"
   ]
  },
  {
   "cell_type": "code",
   "execution_count": 171,
   "id": "166cdf55-4c3d-4eed-a0e2-62bbcf89416d",
   "metadata": {},
   "outputs": [
    {
     "name": "stdout",
     "output_type": "stream",
     "text": [
      "première étape : 255 \n",
      "deuxième étape : ['action_C', 24, 'action_D', 75, 'action_E', 140, 'action_F', 192] \n",
      "3A : 75 \n",
      "75\n",
      "action_E\n"
     ]
    }
   ],
   "source": [
    "cours=[\"action_A\", 28, \"action_B\", 255, \"action_C\", 24, \"action_D\", 75, \"action_E\", 140, \"action_F\", 192]\n",
    "\n",
    "quatrième_élément_de_la_liste_1=cours[3]\n",
    "print('première étape : %d '%quatrième_élément_de_la_liste_1)\n",
    "\n",
    "\n",
    "print('deuxième étape : %s ' %cours[4:])\n",
    "\n",
    "print('3A : %s ' %cours[7])\n",
    "\n",
    "print(cours[cours.index('action_D')+1])\n",
    "\n",
    "print(cours[cours.index(140)-1])"
   ]
  },
  {
   "cell_type": "code",
   "execution_count": 179,
   "id": "0ba01aed-393d-4fca-97f3-298cf4d246ca",
   "metadata": {},
   "outputs": [
    {
     "name": "stdout",
     "output_type": "stream",
     "text": [
      "{'FR': 'euros', 'US': 'dollars', 'JAP': 'yen'}\n"
     ]
    }
   ],
   "source": [
    "mon_dict = {'FR' : 'euros', 'US' : 'dollars', 'JAP': 'yen'}\n",
    "\n",
    "print(mon_dict)\n",
    "print\n"
   ]
  },
  {
   "cell_type": "code",
   "execution_count": 183,
   "id": "c02cbd72-4fb7-480c-81ee-d020b6dad440",
   "metadata": {},
   "outputs": [
    {
     "data": {
      "text/plain": [
       "[<matplotlib.lines.Line2D at 0x139b930b0>]"
      ]
     },
     "execution_count": 183,
     "metadata": {},
     "output_type": "execute_result"
    },
    {
     "data": {
      "image/png": "[encoded data removed]",
      "text/plain": [
       "<Figure size 640x480 with 1 Axes>"
      ]
     },
     "metadata": {},
     "output_type": "display_data"
    }
   ],
   "source": [
    "import matplotlib.pyplot # J'importe le sous package pyplot du package matplotlib\n",
    "matplotlib.pyplot.plot([0, 1, 2, 3, 4], [0, 1, 4, 9, -10]) # J'utilise la méthode plot du sous-package pyplot"
   ]
  },
  {
   "cell_type": "code",
   "execution_count": 185,
   "id": "021cb662-f91b-4102-86e1-f7a7e1bdfd25",
   "metadata": {},
   "outputs": [
    {
     "name": "stdout",
     "output_type": "stream",
     "text": [
      "Requirement already satisfied: pandas in /opt/anaconda3/lib/python3.12/site-packages (2.2.2)\n",
      "Requirement already satisfied: numpy>=1.26.0 in /opt/anaconda3/lib/python3.12/site-packages (from pandas) (1.26.4)\n",
      "Requirement already satisfied: python-dateutil>=2.8.2 in /opt/anaconda3/lib/python3.12/site-packages (from pandas) (2.9.0.post0)\n",
      "Requirement already satisfied: pytz>=2020.1 in /opt/anaconda3/lib/python3.12/site-packages (from pandas) (2024.1)\n",
      "Requirement already satisfied: tzdata>=2022.7 in /opt/anaconda3/lib/python3.12/site-packages (from pandas) (2023.3)\n",
      "Requirement already satisfied: six>=1.5 in /opt/anaconda3/lib/python3.12/site-packages (from python-dateutil>=2.8.2->pandas) (1.16.0)\n"
     ]
    }
   ],
   "source": [
    "!pip install pandas"
   ]
  },
  {
   "cell_type": "code",
   "execution_count": 189,
   "id": "328bdd75-839e-4564-84af-53b5c8b32e15",
   "metadata": {},
   "outputs": [
    {
     "name": "stdout",
     "output_type": "stream",
     "text": [
      "False\n"
     ]
    }
   ],
   "source": [
    "print(5 in [1,2,4])"
   ]
  },
  {
   "cell_type": "code",
   "execution_count": 223,
   "id": "101560fa-f386-4ed3-819f-e619b4e492fb",
   "metadata": {},
   "outputs": [
    {
     "name": "stdout",
     "output_type": "stream",
     "text": [
      "True\n",
      "True\n"
     ]
    }
   ],
   "source": [
    "#Enregistrer dans une variable pays le nom d'un pays d'Asie (par exemple pays=\"Japon\") et dans une variable devise le nom d'une devise (exemple devise=\"yuan\"). Ecrire un test qui vaut :\n",
    "\n",
    "pays='Japon'\n",
    "devise='yuan'\n",
    "\n",
    "print(pays==\"Japon\" and not devise==\"yen\")\n",
    "print(not pays==\"Chine\" and devise==\"yuan\")"
   ]
  },
  {
   "cell_type": "code",
   "execution_count": 235,
   "id": "4ebcfb72-af67-4f8d-9070-f5cbd316050e",
   "metadata": {},
   "outputs": [
    {
     "name": "stdout",
     "output_type": "stream",
     "text": [
      " onsaitpas\n"
     ]
    }
   ],
   "source": [
    "solde=100\n",
    "if (solde==5):\n",
    "    print('solde vaut 5')\n",
    "else:\n",
    " print(' onsaitpas')"
   ]
  },
  {
   "cell_type": "code",
   "execution_count": 245,
   "id": "403f4ce0-8453-4818-9502-772dc1e4ae3f",
   "metadata": {},
   "outputs": [
    {
     "name": "stdout",
     "output_type": "stream",
     "text": [
      "1\n"
     ]
    }
   ],
   "source": [
    "x=0\n",
    "y=1\n",
    "z=0\n",
    "\n",
    "if (x==y==z):\n",
    "  print('attention')\n",
    "else:\n",
    " print(x+z+y)"
   ]
  },
  {
   "cell_type": "code",
   "execution_count": 253,
   "id": "c470f946-c393-4cfc-af63-81b085126fa7",
   "metadata": {},
   "outputs": [
    {
     "ename": "SyntaxError",
     "evalue": "invalid syntax (2964094863.py, line 1)",
     "output_type": "error",
     "traceback": [
      "\u001b[0;36m  Cell \u001b[0;32mIn[253], line 1\u001b[0;36m\u001b[0m\n\u001b[0;31m    for nb in range(0:10):\u001b[0m\n\u001b[0m                     ^\u001b[0m\n\u001b[0;31mSyntaxError\u001b[0m\u001b[0;31m:\u001b[0m invalid syntax\n"
     ]
    }
   ],
   "source": [
    "for nb in range(0:10):\n",
    "    print(\" 8 *\", nb, \"=\", 8 * nb)"
   ]
  },
  {
   "cell_type": "code",
   "execution_count": 255,
   "id": "7a15faaf-49da-41dd-8cdf-f751611c4cd5",
   "metadata": {},
   "outputs": [
    {
     "name": "stdout",
     "output_type": "stream",
     "text": [
      "Question 1\n",
      "\n",
      "['TIXLFRXU', 'QAOYUSBF', 'CKJTUSTV', 'GDYHUSQL', 'KQTLUSIW', 'RCJVUSFZ', 'HXTLFRUN', 'DFNLUSNJ']\n",
      "['DLPHCADSHAX', 'EAAGDEFFJKG', 'WKCJFRPWKFP', 'PWFBFRXLMAR', 'ZNLMUSOBWFT', 'EOTFUSPWXKP', 'IJPMFRMRFUP']\n",
      "['GNIFYMFYZCETTOE', 'RVUGFWGMJALNFEI', 'QIYODSXYZLJBNCG', 'CUEXWJPFXBCTRMB', 'EBUBZPKGEXSEUZN']\n"
     ]
    }
   ],
   "source": [
    "liste_codes=['TIXLFRXU', 'QAOYUSBF', 'DLPHCADSHAX', 'GNIFYMFYZCETTOE', 'EAAGDEFFJKG',\n",
    "             'RVUGFWGMJALNFEI', 'CKJTUSTV', 'WKCJFRPWKFP', 'PWFBFRXLMAR', 'ZNLMUSOBWFT',\n",
    "             'GDYHUSQL', 'QIYODSXYZLJBNCG', 'KQTLUSIW', 'RCJVUSFZ', 'CUEXWJPFXBCTRMB', \n",
    "             'HXTLFRUN', 'EBUBZPKGEXSEUZN', 'DFNLUSNJ', 'EOTFUSPWXKP', 'IJPMFRMRFUP']\n",
    "\n",
    "print(\"Question 1\\n\")\n",
    "huit_lettres=[]\n",
    "onze_lettres=[]\n",
    "autres=[]\n",
    "for code in liste_codes:\n",
    "    if len(code)==8:\n",
    "        huit_lettres.append(code)\n",
    "    elif len(code)==11:\n",
    "        onze_lettres.append(code)\n",
    "    else:\n",
    "        autres.append(code)\n",
    "print(huit_lettres)\n",
    "print(onze_lettres)\n",
    "print(autres)"
   ]
  },
  {
   "cell_type": "code",
   "execution_count": 257,
   "id": "4070e46c-ea2d-4f46-8305-311bd510234c",
   "metadata": {},
   "outputs": [
    {
     "name": "stdout",
     "output_type": "stream",
     "text": [
      "Le client Durand a un solde final de  288.37\n",
      "Le client Dupont a un solde final de  1835.66\n"
     ]
    }
   ],
   "source": [
    "def solde_client(flux_client):\n",
    "    solde=flux_client[1]   #en Python la numérotation commence à 0, on récupère donc ici le 2ème élément de la liste\n",
    "    for flux in flux_client[2:]:\n",
    "        solde+=flux       #on verra plus tard d'autres manières plus directes de calculer cette somme\n",
    "    print(\"Le client\",flux_client[0],\"a un solde final de \",solde)\n",
    "    \n",
    "solde_client([\"Durand\",580,-12,35,45.65,-360.28])\n",
    "solde_client([\"Dupont\",1820.67,122.44,20,50,-100,-87.55,-79.90,45,45]) "
   ]
  },
  {
   "cell_type": "code",
   "execution_count": 259,
   "id": "20f5aade-a481-473d-8c0a-3eedb1be35be",
   "metadata": {},
   "outputs": [
    {
     "name": "stdout",
     "output_type": "stream",
     "text": [
      "liste_clients Durand,Dupont,Laporte,Lefèvre\n",
      "liste_clients Durand,Dupont,Laporte,Lefèvre\n",
      "liste_clients_separes ['Durand', 'Dupont', 'Laporte', 'Lefèvre']\n",
      "liste_clients_separes ['Durand', 'Dupont', 'Laporte', 'Lefèvre', 'Latour']\n"
     ]
    }
   ],
   "source": [
    "liste_clients=\"Durand,Dupont,Laporte,Lefèvre\"\n",
    "print(\"liste_clients\", liste_clients)\n",
    "\n",
    "\n",
    "liste_clients_separes=liste_clients.split(',')\n",
    "print(\"liste_clients\", liste_clients)  #on constate qu'elle est non modifiée\n",
    "print(\"liste_clients_separes\", liste_clients_separes)  #version initiale de \"liste_clients_separes\"\n",
    "\n",
    "\n",
    "liste_clients_separes.append(\"Latour\")\n",
    "print(\"liste_clients_separes\", liste_clients_separes) #version modifiée - la version initiale n'existe plus !"
   ]
  },
  {
   "cell_type": "code",
   "execution_count": 3,
   "id": "d75c01bc-9bd4-4751-8f5d-b31e18c13b50",
   "metadata": {},
   "outputs": [],
   "source": [
    "import numpy as np"
   ]
  },
  {
   "cell_type": "code",
   "execution_count": 9,
   "id": "a0b221cf-b037-4deb-8521-f1a0dc00593e",
   "metadata": {},
   "outputs": [
    {
     "data": {
      "text/plain": [
       "array([[ 0.34087427,  0.25183271,  0.08801675,  0.95890064],\n",
       "       [-0.67021905, -0.68908245,  0.04229853, -1.33408391],\n",
       "       [-0.30424501, -0.67221897,  0.69833468,  0.20830758],\n",
       "       [ 0.28403153, -0.40426912, -1.80670805, -1.38035553],\n",
       "       [ 0.1721365 ,  0.80668137, -0.63868487, -1.37942671]])"
      ]
     },
     "execution_count": 9,
     "metadata": {},
     "output_type": "execute_result"
    }
   ],
   "source": [
    "np.random.randn(5,4)np.zeros((dimensions))"
   ]
  },
  {
   "cell_type": "code",
   "execution_count": 53,
   "id": "39a318cc-83e5-447d-8a72-471ad532ded7",
   "metadata": {},
   "outputs": [
    {
     "name": "stdout",
     "output_type": "stream",
     "text": [
      " \n",
      "(1000,)\n"
     ]
    }
   ],
   "source": [
    "np.ones((1000))\n",
    "\n",
    "tableau=np.ones((1000))\n",
    "\n",
    "print(\" \")\n",
    "\n",
    "print(tableau.shape)\n"
   ]
  },
  {
   "cell_type": "code",
   "execution_count": 33,
   "id": "2ac8b2a9-044c-45df-8a86-2b470eec4cc5",
   "metadata": {},
   "outputs": [
    {
     "data": {
      "text/plain": [
       "array([1.51      , 1.50979592, 1.50959184, 1.50938776, 1.50918367,\n",
       "       1.50897959, 1.50877551, 1.50857143, 1.50836735, 1.50816327,\n",
       "       1.50795918, 1.5077551 , 1.50755102, 1.50734694, 1.50714286,\n",
       "       1.50693878, 1.50673469, 1.50653061, 1.50632653, 1.50612245,\n",
       "       1.50591837, 1.50571429, 1.5055102 , 1.50530612, 1.50510204,\n",
       "       1.50489796, 1.50469388, 1.5044898 , 1.50428571, 1.50408163,\n",
       "       1.50387755, 1.50367347, 1.50346939, 1.50326531, 1.50306122,\n",
       "       1.50285714, 1.50265306, 1.50244898, 1.5022449 , 1.50204082,\n",
       "       1.50183673, 1.50163265, 1.50142857, 1.50122449, 1.50102041,\n",
       "       1.50081633, 1.50061224, 1.50040816, 1.50020408, 1.5       ])"
      ]
     },
     "execution_count": 33,
     "metadata": {},
     "output_type": "execute_result"
    }
   ],
   "source": [
    "np.linspace(1.51,1.5,50)"
   ]
  },
  {
   "cell_type": "code",
   "execution_count": 77,
   "id": "84126ee1-bff3-4eb8-afdf-4eb419a09cec",
   "metadata": {},
   "outputs": [
    {
     "name": "stdout",
     "output_type": "stream",
     "text": [
      "[[ 1.   2.   3.   4.   5. ]\n",
      " [ 4.   5.   1.   2.   0.1]\n",
      " [ 0.5 -8.  10.   2.5 -2. ]]\n",
      "[[ 1.   2.   3.   4.   5. ]\n",
      " [ 4.   5.   1.   2.   0.1]\n",
      " [ 0.5 -8.  10.   2.5 -2. ]]\n"
     ]
    }
   ],
   "source": [
    "array_3=np.array([[1.,2,3,4,5],[4,5,1,2,0.1],[0.5,-8,10,2.5,-2]])\n",
    "print(array_3)\n",
    "\n",
    "array_4=np.array([[0.,2,3,4],[4,5,1,2],[0.5,-8,10,2.5]])\n",
    "print(array_3)"
   ]
  },
  {
   "cell_type": "code",
   "execution_count": 61,
   "id": "45888970-a974-4cdc-808d-7bcd647ffe23",
   "metadata": {},
   "outputs": [
    {
     "data": {
      "text/plain": [
       "-8.0"
      ]
     },
     "execution_count": 61,
     "metadata": {},
     "output_type": "execute_result"
    }
   ],
   "source": [
    "array_3[2,1]"
   ]
  },
  {
   "cell_type": "code",
   "execution_count": 113,
   "id": "c2ad2729-11e7-4eb3-bfc5-7f14e587461f",
   "metadata": {},
   "outputs": [
    {
     "name": "stdout",
     "output_type": "stream",
     "text": [
      "[[[0.01775758 0.82619559 0.48262318 ... 0.10572141 0.88604655 0.34230154]\n",
      "  [0.57800831 0.82804309 0.66517671 ... 0.89427492 0.41267606 0.72962792]\n",
      "  [0.10224508 0.57563969 0.72203531 ... 0.97108523 0.64799725 0.67123827]\n",
      "  ...\n",
      "  [0.18543358 0.22964677 0.52694872 ... 0.05410838 0.61203357 0.69139268]\n",
      "  [0.17510875 0.1517943  0.34387314 ... 0.6590718  0.11226076 0.96430334]\n",
      "  [0.05054437 0.14419834 0.02895673 ... 0.23277649 0.20549111 0.36880473]]\n",
      "\n",
      " [[0.75602758 0.3651759  0.87411657 ... 0.09981992 0.94249164 0.55030967]\n",
      "  [0.60219856 0.19191373 0.23282615 ... 0.16444734 0.22655209 0.25145066]\n",
      "  [0.91256329 0.58287385 0.65946449 ... 0.66135219 0.62178034 0.96785686]\n",
      "  ...\n",
      "  [0.02329767 0.89478798 0.9919444  ... 0.80900928 0.65072439 0.01683521]\n",
      "  [0.44394155 0.46075997 0.14652725 ... 0.36624606 0.66877355 0.71567673]\n",
      "  [0.70810449 0.18275411 0.55197555 ... 0.75161057 0.6588214  0.42773316]]\n",
      "\n",
      " [[0.02432631 0.15119724 0.44376748 ... 0.53266957 0.93288421 0.07757997]\n",
      "  [0.99399118 0.44100849 0.07957716 ... 0.4818842  0.55428462 0.02416317]\n",
      "  [0.98681291 0.49595065 0.30973569 ... 0.54412744 0.94419179 0.42352318]\n",
      "  ...\n",
      "  [0.7646777  0.87095555 0.27028974 ... 0.18685224 0.83844442 0.38278741]\n",
      "  [0.80790893 0.74862449 0.6680892  ... 0.29348112 0.328044   0.81736064]\n",
      "  [0.98917365 0.17069578 0.95696664 ... 0.30211409 0.61663651 0.48885385]]\n",
      "\n",
      " ...\n",
      "\n",
      " [[0.42144902 0.81701847 0.38591365 ... 0.98880662 0.3922509  0.07866915]\n",
      "  [0.90610329 0.40519243 0.92852341 ... 0.82496749 0.94782531 0.85434803]\n",
      "  [0.46835759 0.7686219  0.67625836 ... 0.08865044 0.65854687 0.8724615 ]\n",
      "  ...\n",
      "  [0.36469659 0.65175758 0.38385069 ... 0.98518122 0.51890584 0.65880814]\n",
      "  [0.92497429 0.86093243 0.26720017 ... 0.0329489  0.25640009 0.41512586]\n",
      "  [0.66040109 0.51552349 0.08739832 ... 0.77002651 0.7192339  0.23220271]]\n",
      "\n",
      " [[0.37893571 0.37034579 0.50071835 ... 0.96100471 0.53347141 0.92228365]\n",
      "  [0.52124763 0.45022972 0.50145614 ... 0.17897588 0.37310922 0.89793621]\n",
      "  [0.69254673 0.2660799  0.26602143 ... 0.07172387 0.24570184 0.55664504]\n",
      "  ...\n",
      "  [0.52302227 0.97653148 0.24827598 ... 0.00758722 0.42926636 0.1239009 ]\n",
      "  [0.17372585 0.59628909 0.18205625 ... 0.81286525 0.96152409 0.03389718]\n",
      "  [0.85598962 0.39989939 0.15757332 ... 0.45667667 0.20950099 0.88786793]]\n",
      "\n",
      " [[0.68830063 0.90266971 0.07135778 ... 0.3832145  0.35266538 0.52188016]\n",
      "  [0.98162703 0.9456704  0.18666786 ... 0.74834702 0.57588237 0.85943966]\n",
      "  [0.99241316 0.01827431 0.08505823 ... 0.72229391 0.46931436 0.57267542]\n",
      "  ...\n",
      "  [0.86468413 0.65351649 0.25117371 ... 0.06025795 0.1806331  0.47059987]\n",
      "  [0.49274292 0.73343357 0.25566539 ... 0.14902514 0.04965196 0.63081779]\n",
      "  [0.17222939 0.07448601 0.17675819 ... 0.95043167 0.90111576 0.26397096]]]\n"
     ]
    }
   ],
   "source": [
    "n=100\n",
    "pour_la_somme=np.random.rand(n,n,n)\n",
    "\n",
    "print(pour_la_somme)\n",
    "\n",
    "np.sum(pour_la_somme)\n",
    "\n",
    "import time"
   ]
  },
  {
   "cell_type": "code",
   "execution_count": 1,
   "id": "dd24b221-b2f8-473b-b097-2e2076068c71",
   "metadata": {},
   "outputs": [
    {
     "data": {
      "image/png": "[encoded data removed]",
      "text/plain": [
       "<Figure size 640x480 with 1 Axes>"
      ]
     },
     "metadata": {},
     "output_type": "display_data"
    }
   ],
   "source": [
    "import matplotlib.pyplot as plt  # Ensure this line is present to import matplotlib.pyplot\n",
    "\n",
    "xi = [-3, -2.2, 0, 0.8, 1.9, 4, 5.5, 7]\n",
    "yi = [-2, 1, 2, 1.5, 4, 3, 3, 3.8]\n",
    "\n",
    "plt.plot(xi, yi)m\n",
    "plt.title('Un graphique sublime')\n",
    "plt.xlabel('axe des abscisses')\n",
    "plt.ylabel('axe des ordonnées')\n",
    "plt.show()  # Ensure you include plt.show() to display the plot"
   ]
  },
  {
   "cell_type": "code",
   "execution_count": 9,
   "id": "8dbaa11b-2f8b-455b-9835-81b001d78c1f",
   "metadata": {},
   "outputs": [],
   "source": [
    "import pandas as pd "
   ]
  },
  {
   "cell_type": "code",
   "execution_count": 13,
   "id": "4088a8fa-e4cd-4d47-96dd-0783cbadaacb",
   "metadata": {},
   "outputs": [
    {
     "name": "stdout",
     "output_type": "stream",
     "text": [
      "janvier         500\n",
      "fevrier         800\n",
      "mars            900\n",
      "avril          4000\n",
      "mai           20000\n",
      "juin        3000000\n",
      "juillet    25000000\n",
      "aout         400000\n",
      "Name: client 1, dtype: int64\n"
     ]
    }
   ],
   "source": [
    "mes_valeurs = [500,800,900,4000,20000,3000000,25000000,400000]\n",
    "mes_indexes = [ 'janvier', 'fevrier', 'mars','avril', 'mai', 'juin', 'juillet', 'aout']\n",
    "\n",
    "series_1=pd.Series(mes_valeurs, index=mes_indexes,name='client 1' )\n",
    "print(series_1)\n",
    "\n",
    "\n"
   ]
  },
  {
   "cell_type": "code",
   "execution_count": 15,
   "id": "574a8517-827d-4ca4-ba77-b23be37b68c9",
   "metadata": {},
   "outputs": [
    {
     "name": "stdout",
     "output_type": "stream",
     "text": [
      "Q1.\n",
      "client_a    200.0\n",
      "client_b    350.0\n",
      "client_d      NaN\n",
      "client_h    400.0\n",
      "client_m    120.0\n",
      "client_g     60.0\n",
      "client_f     80.0\n",
      "client_r    420.0\n",
      "client_u    240.0\n",
      "client_v      NaN\n",
      "client_s    120.0\n",
      "client_k     80.0\n",
      "dtype: float64\n"
     ]
    }
   ],
   "source": [
    "print(\"Q1.\")\n",
    "\n",
    "vals = [200,350, float(\"nan\"), 400,120,60,80,420,240,float(\"nan\"),120,80]\n",
    "ind = [\n",
    "    \"client_a\", \"client_b\",\"client_d\",\"client_h\",\"client_m\",\"client_g\",\n",
    "    \"client_f\",\"client_r\",\"client_u\",\"client_v\",\"client_s\",\"client_k\"\n",
    "]\n",
    "\n",
    "ca_clients_initiale = pd.Series(vals, index=ind)\n",
    "print(ca_clients_initiale)"
   ]
  },
  {
   "cell_type": "code",
   "execution_count": 21,
   "id": "98845dae-aa72-4ddf-8f04-8bff056e6ff4",
   "metadata": {},
   "outputs": [
    {
     "name": "stdout",
     "output_type": "stream",
     "text": [
      "Q2.\n",
      "client_a    200.0\n",
      "client_b    350.0\n",
      "client_h    400.0\n",
      "client_m    120.0\n",
      "client_g     60.0\n",
      "client_f     80.0\n",
      "client_r    420.0\n",
      "client_u    240.0\n",
      "client_s    120.0\n",
      "client_k     80.0\n",
      "dtype: float64\n"
     ]
    }
   ],
   "source": [
    "print(\"Q2.\")\n",
    "clients=ca_clients_initiale.dropna()\n",
    "print(clients)"
   ]
  },
  {
   "cell_type": "code",
   "execution_count": 29,
   "id": "8394d8a4-4d9e-4fe3-88be-9a735efb9619",
   "metadata": {},
   "outputs": [
    {
     "name": "stdout",
     "output_type": "stream",
     "text": [
      "hey\n",
      "client_f     80.0\n",
      "client_g     60.0\n",
      "client_s    120.0\n",
      "dtype: float64\n",
      "client_a    200.0\n",
      "client_b    350.0\n",
      "client_s    120.0\n",
      "dtype: float64\n"
     ]
    }
   ],
   "source": [
    "#Afficher le CA des clients client_f, client_g et client_s.\n",
    "#Afficher le CA des clients numérotés (en comptant à partir de 0) 0,1 et 8.\n",
    "#Afficher le CA des clients numérotés (en comptant à partir de 0) 3 à 7 inclus.\n",
    "#Afficher le CA de l'avant-dernier client (sans compter à la main...) de la series.\n",
    "print(\"hey\")\n",
    "\n",
    "\n",
    "print(clients.loc[[\"client_f\", \"client_g\", \"client_s\"]])\n",
    "print(clients.iloc[[0,1,8]])\n"
   ]
  },
  {
   "cell_type": "code",
   "execution_count": 33,
   "id": "d432bccf-510d-4185-b740-193e282ccb52",
   "metadata": {},
   "outputs": [
    {
     "name": "stdout",
     "output_type": "stream",
     "text": [
      "client_r    420.0\n",
      "client_h    400.0\n",
      "client_b    350.0\n",
      "client_u    240.0\n",
      "client_a    200.0\n",
      "client_m    120.0\n",
      "client_s    120.0\n",
      "client_f     80.0\n",
      "client_k     80.0\n",
      "client_g     60.0\n",
      "dtype: float64\n"
     ]
    }
   ],
   "source": [
    "print(clients.sort_values(ascending=False))"
   ]
  },
  {
   "cell_type": "code",
   "execution_count": 37,
   "id": "db325381-4fab-427d-b9ed-a9e6374515f4",
   "metadata": {},
   "outputs": [
    {
     "data": {
      "text/html": [
       "<div>\n",
       "<style scoped>\n",
       "    .dataframe tbody tr th:only-of-type {\n",
       "        vertical-align: middle;\n",
       "    }\n",
       "\n",
       "    .dataframe tbody tr th {\n",
       "        vertical-align: top;\n",
       "    }\n",
       "\n",
       "    .dataframe thead th {\n",
       "        text-align: right;\n",
       "    }\n",
       "</style>\n",
       "<table border=\"1\" class=\"dataframe\">\n",
       "  <thead>\n",
       "    <tr style=\"text-align: right;\">\n",
       "      <th></th>\n",
       "      <th>solde</th>\n",
       "      <th>ville</th>\n",
       "    </tr>\n",
       "  </thead>\n",
       "  <tbody>\n",
       "    <tr>\n",
       "      <th>client_1</th>\n",
       "      <td>2800</td>\n",
       "      <td>Paris</td>\n",
       "    </tr>\n",
       "    <tr>\n",
       "      <th>client_3</th>\n",
       "      <td>-850</td>\n",
       "      <td>Paris</td>\n",
       "    </tr>\n",
       "    <tr>\n",
       "      <th>client_4</th>\n",
       "      <td>550</td>\n",
       "      <td>Bordeaux</td>\n",
       "    </tr>\n",
       "  </tbody>\n",
       "</table>\n",
       "</div>"
      ],
      "text/plain": [
       "          solde     ville\n",
       "client_1   2800     Paris\n",
       "client_3   -850     Paris\n",
       "client_4    550  Bordeaux"
      ]
     },
     "execution_count": 37,
     "metadata": {},
     "output_type": "execute_result"
    }
   ],
   "source": [
    "df_3=pd.DataFrame(\n",
    "    [[2800,'Paris'],[-850,'Paris'],[550,'Bordeaux']],\n",
    "    index=['client_1','client_3','client_4'], \n",
    "    columns=['solde','ville',])\n",
    "df_3"
   ]
  },
  {
   "cell_type": "code",
   "execution_count": null,
   "id": "35ab81ce-f369-462e-b93f-84b6598de5a4",
   "metadata": {},
   "outputs": [],
   "source": []
  }
 ],
 "metadata": {
  "kernelspec": {
   "display_name": "Python 3 (ipykernel)",
   "language": "python",
   "name": "python3"
  },
  "language_info": {
   "codemirror_mode": {
    "name": "ipython",
    "version": 3
   },
   "file_extension": ".py",
   "mimetype": "text/x-python",
   "name": "python",
   "nbconvert_exporter": "python",
   "pygments_lexer": "ipython3",
   "version": "3.12.4"
  }
 },
 "nbformat": 4,
 "nbformat_minor": 5
}
